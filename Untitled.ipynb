{
 "cells": [
  {
   "cell_type": "code",
   "execution_count": 6,
   "id": "abc9fc5e-ce8c-4c7a-94be-4941ce6c9397",
   "metadata": {},
   "outputs": [
    {
     "name": "stdout",
     "output_type": "stream",
     "text": [
      "data\\atsuhiko_nakata\\atsuhiko_nakata_comments.json\n"
     ]
    }
   ],
   "source": [
    "import os\n",
    "import glob\n",
    "import json\n",
    "import numpy as np\n",
    "import pandas as pd\n",
    "import winsound\n",
    "from googleapiclient.discovery import build\n",
    "\n",
    "files = glob.glob('data/*/*_comments.json')\n",
    "for file_path in files[:1]:\n",
    "    print(file_path)\n",
    "    # データを読み込む\n",
    "    df = pd.read_json(file_path)\n",
    "    df['replyFromId'].astype(str)\n",
    "    df.to_json(f\"{file_path}\", orient='records', date_format='iso', indent=2)"
   ]
  }
 ],
 "metadata": {
  "kernelspec": {
   "display_name": "Python 3 (ipykernel)",
   "language": "python",
   "name": "python3"
  },
  "language_info": {
   "codemirror_mode": {
    "name": "ipython",
    "version": 3
   },
   "file_extension": ".py",
   "mimetype": "text/x-python",
   "name": "python",
   "nbconvert_exporter": "python",
   "pygments_lexer": "ipython3",
   "version": "3.8.17"
  }
 },
 "nbformat": 4,
 "nbformat_minor": 5
}
